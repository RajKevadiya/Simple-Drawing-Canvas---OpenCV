{
 "cells": [
  {
   "cell_type": "code",
   "execution_count": 1,
   "metadata": {},
   "outputs": [],
   "source": [
    "import cv2 as cv\n",
    "import numpy as np"
   ]
  },
  {
   "cell_type": "code",
   "execution_count": 2,
   "metadata": {},
   "outputs": [],
   "source": [
    "canvas = np.ones([500, 700, 3], 'uint8') * 255\n",
    "\n",
    "color =(0,255,0)\n",
    "radius = 3\n",
    "pressed = False\n",
    "\n",
    "\n",
    "def click (event, x, y, flags, param):\n",
    "    global canvas, pressed  \n",
    "    if event == cv.EVENT_LBUTTONDOWN:\n",
    "        pressed = True\n",
    "        cv.circle(canvas, (x, y), radius, color, -1)\n",
    "    elif event == cv.EVENT_MOUSEMOVE and pressed == True:\n",
    "        cv.circle(canvas, (x, y), radius, color, -1)\n",
    "    elif event == cv.EVENT_LBUTTONUP:\n",
    "        pressed = False\n",
    "        \n",
    "cv.namedWindow(\"canvas\")\n",
    "cv.setMouseCallback(\"canvas\", click)\n",
    "\n",
    "while True:\n",
    "    \n",
    "    cv.imshow(\"canvas\", canvas)\n",
    "    \n",
    "    ch = cv.waitKey(1)\n",
    "    if ch & 0xFF == ord('q'):\n",
    "        break    \n",
    "    elif ch & 0xFF == ord('b'):\n",
    "        color  = (255, 0, 0)\n",
    "    elif ch & 0xFF == ord('g'):\n",
    "        color = (0,255,0)\n",
    "             \n",
    "cv.destroyAllWindows()"
   ]
  }
 ],
 "metadata": {
  "kernelspec": {
   "display_name": "Python 3",
   "language": "python",
   "name": "python3"
  },
  "language_info": {
   "codemirror_mode": {
    "name": "ipython",
    "version": 3
   },
   "file_extension": ".py",
   "mimetype": "text/x-python",
   "name": "python",
   "nbconvert_exporter": "python",
   "pygments_lexer": "ipython3",
   "version": "3.8.5"
  }
 },
 "nbformat": 4,
 "nbformat_minor": 4
}
